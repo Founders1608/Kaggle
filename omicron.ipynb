{
  "nbformat": 4,
  "nbformat_minor": 0,
  "metadata": {
    "colab": {
      "name": "omicron",
      "provenance": [],
      "collapsed_sections": []
    },
    "kernelspec": {
      "name": "python3",
      "display_name": "Python 3"
    },
    "language_info": {
      "name": "python"
    }
  },
  "cells": [
    {
      "cell_type": "code",
      "source": [
        "from google.colab import drive\n",
        "drive.mount(\"/content/gdrive\")"
      ],
      "metadata": {
        "colab": {
          "base_uri": "https://localhost:8080/"
        },
        "id": "zN16a3582ufP",
        "outputId": "51ede50d-507e-4c13-ad2f-fa0251029df8"
      },
      "execution_count": null,
      "outputs": [
        {
          "output_type": "stream",
          "name": "stdout",
          "text": [
            "Mounted at /content/gdrive\n"
          ]
        }
      ]
    },
    {
      "cell_type": "code",
      "source": [
        "import os \n",
        "import numpy as np\n",
        "import pandas as pd \n",
        "import matplotlib.pyplot as plt\n",
        "import seaborn as sns"
      ],
      "metadata": {
        "id": "kfbe53gO2xeo"
      },
      "execution_count": null,
      "outputs": []
    },
    {
      "cell_type": "code",
      "source": [
        "df = pd.read_csv('/content/gdrive/My Drive/covid-variants.csv')"
      ],
      "metadata": {
        "id": "DwEBCexn3J_q"
      },
      "execution_count": null,
      "outputs": []
    },
    {
      "cell_type": "code",
      "source": [
        "df.head()"
      ],
      "metadata": {
        "colab": {
          "base_uri": "https://localhost:8080/",
          "height": 204
        },
        "id": "UpTqQ93w3U-I",
        "outputId": "be648c2b-9721-430c-cd16-370d44bf6c7a"
      },
      "execution_count": null,
      "outputs": [
        {
          "output_type": "execute_result",
          "data": {
            "text/html": [
              "\n",
              "  <div id=\"df-5e5ddb43-8d35-4558-b08d-15f772988d70\">\n",
              "    <div class=\"colab-df-container\">\n",
              "      <div>\n",
              "<style scoped>\n",
              "    .dataframe tbody tr th:only-of-type {\n",
              "        vertical-align: middle;\n",
              "    }\n",
              "\n",
              "    .dataframe tbody tr th {\n",
              "        vertical-align: top;\n",
              "    }\n",
              "\n",
              "    .dataframe thead th {\n",
              "        text-align: right;\n",
              "    }\n",
              "</style>\n",
              "<table border=\"1\" class=\"dataframe\">\n",
              "  <thead>\n",
              "    <tr style=\"text-align: right;\">\n",
              "      <th></th>\n",
              "      <th>location</th>\n",
              "      <th>date</th>\n",
              "      <th>variant</th>\n",
              "      <th>num_sequences</th>\n",
              "      <th>perc_sequences</th>\n",
              "      <th>num_sequences_total</th>\n",
              "    </tr>\n",
              "  </thead>\n",
              "  <tbody>\n",
              "    <tr>\n",
              "      <th>0</th>\n",
              "      <td>Angola</td>\n",
              "      <td>2020-07-06</td>\n",
              "      <td>Alpha</td>\n",
              "      <td>0</td>\n",
              "      <td>0.0</td>\n",
              "      <td>3</td>\n",
              "    </tr>\n",
              "    <tr>\n",
              "      <th>1</th>\n",
              "      <td>Angola</td>\n",
              "      <td>2020-07-06</td>\n",
              "      <td>B.1.1.277</td>\n",
              "      <td>0</td>\n",
              "      <td>0.0</td>\n",
              "      <td>3</td>\n",
              "    </tr>\n",
              "    <tr>\n",
              "      <th>2</th>\n",
              "      <td>Angola</td>\n",
              "      <td>2020-07-06</td>\n",
              "      <td>B.1.1.302</td>\n",
              "      <td>0</td>\n",
              "      <td>0.0</td>\n",
              "      <td>3</td>\n",
              "    </tr>\n",
              "    <tr>\n",
              "      <th>3</th>\n",
              "      <td>Angola</td>\n",
              "      <td>2020-07-06</td>\n",
              "      <td>B.1.1.519</td>\n",
              "      <td>0</td>\n",
              "      <td>0.0</td>\n",
              "      <td>3</td>\n",
              "    </tr>\n",
              "    <tr>\n",
              "      <th>4</th>\n",
              "      <td>Angola</td>\n",
              "      <td>2020-07-06</td>\n",
              "      <td>B.1.160</td>\n",
              "      <td>0</td>\n",
              "      <td>0.0</td>\n",
              "      <td>3</td>\n",
              "    </tr>\n",
              "  </tbody>\n",
              "</table>\n",
              "</div>\n",
              "      <button class=\"colab-df-convert\" onclick=\"convertToInteractive('df-5e5ddb43-8d35-4558-b08d-15f772988d70')\"\n",
              "              title=\"Convert this dataframe to an interactive table.\"\n",
              "              style=\"display:none;\">\n",
              "        \n",
              "  <svg xmlns=\"http://www.w3.org/2000/svg\" height=\"24px\"viewBox=\"0 0 24 24\"\n",
              "       width=\"24px\">\n",
              "    <path d=\"M0 0h24v24H0V0z\" fill=\"none\"/>\n",
              "    <path d=\"M18.56 5.44l.94 2.06.94-2.06 2.06-.94-2.06-.94-.94-2.06-.94 2.06-2.06.94zm-11 1L8.5 8.5l.94-2.06 2.06-.94-2.06-.94L8.5 2.5l-.94 2.06-2.06.94zm10 10l.94 2.06.94-2.06 2.06-.94-2.06-.94-.94-2.06-.94 2.06-2.06.94z\"/><path d=\"M17.41 7.96l-1.37-1.37c-.4-.4-.92-.59-1.43-.59-.52 0-1.04.2-1.43.59L10.3 9.45l-7.72 7.72c-.78.78-.78 2.05 0 2.83L4 21.41c.39.39.9.59 1.41.59.51 0 1.02-.2 1.41-.59l7.78-7.78 2.81-2.81c.8-.78.8-2.07 0-2.86zM5.41 20L4 18.59l7.72-7.72 1.47 1.35L5.41 20z\"/>\n",
              "  </svg>\n",
              "      </button>\n",
              "      \n",
              "  <style>\n",
              "    .colab-df-container {\n",
              "      display:flex;\n",
              "      flex-wrap:wrap;\n",
              "      gap: 12px;\n",
              "    }\n",
              "\n",
              "    .colab-df-convert {\n",
              "      background-color: #E8F0FE;\n",
              "      border: none;\n",
              "      border-radius: 50%;\n",
              "      cursor: pointer;\n",
              "      display: none;\n",
              "      fill: #1967D2;\n",
              "      height: 32px;\n",
              "      padding: 0 0 0 0;\n",
              "      width: 32px;\n",
              "    }\n",
              "\n",
              "    .colab-df-convert:hover {\n",
              "      background-color: #E2EBFA;\n",
              "      box-shadow: 0px 1px 2px rgba(60, 64, 67, 0.3), 0px 1px 3px 1px rgba(60, 64, 67, 0.15);\n",
              "      fill: #174EA6;\n",
              "    }\n",
              "\n",
              "    [theme=dark] .colab-df-convert {\n",
              "      background-color: #3B4455;\n",
              "      fill: #D2E3FC;\n",
              "    }\n",
              "\n",
              "    [theme=dark] .colab-df-convert:hover {\n",
              "      background-color: #434B5C;\n",
              "      box-shadow: 0px 1px 3px 1px rgba(0, 0, 0, 0.15);\n",
              "      filter: drop-shadow(0px 1px 2px rgba(0, 0, 0, 0.3));\n",
              "      fill: #FFFFFF;\n",
              "    }\n",
              "  </style>\n",
              "\n",
              "      <script>\n",
              "        const buttonEl =\n",
              "          document.querySelector('#df-5e5ddb43-8d35-4558-b08d-15f772988d70 button.colab-df-convert');\n",
              "        buttonEl.style.display =\n",
              "          google.colab.kernel.accessAllowed ? 'block' : 'none';\n",
              "\n",
              "        async function convertToInteractive(key) {\n",
              "          const element = document.querySelector('#df-5e5ddb43-8d35-4558-b08d-15f772988d70');\n",
              "          const dataTable =\n",
              "            await google.colab.kernel.invokeFunction('convertToInteractive',\n",
              "                                                     [key], {});\n",
              "          if (!dataTable) return;\n",
              "\n",
              "          const docLinkHtml = 'Like what you see? Visit the ' +\n",
              "            '<a target=\"_blank\" href=https://colab.research.google.com/notebooks/data_table.ipynb>data table notebook</a>'\n",
              "            + ' to learn more about interactive tables.';\n",
              "          element.innerHTML = '';\n",
              "          dataTable['output_type'] = 'display_data';\n",
              "          await google.colab.output.renderOutput(dataTable, element);\n",
              "          const docLink = document.createElement('div');\n",
              "          docLink.innerHTML = docLinkHtml;\n",
              "          element.appendChild(docLink);\n",
              "        }\n",
              "      </script>\n",
              "    </div>\n",
              "  </div>\n",
              "  "
            ],
            "text/plain": [
              "  location        date  ... perc_sequences  num_sequences_total\n",
              "0   Angola  2020-07-06  ...            0.0                    3\n",
              "1   Angola  2020-07-06  ...            0.0                    3\n",
              "2   Angola  2020-07-06  ...            0.0                    3\n",
              "3   Angola  2020-07-06  ...            0.0                    3\n",
              "4   Angola  2020-07-06  ...            0.0                    3\n",
              "\n",
              "[5 rows x 6 columns]"
            ]
          },
          "metadata": {},
          "execution_count": 5
        }
      ]
    },
    {
      "cell_type": "markdown",
      "source": [
        "https://towardsdatascience.com/google-colab-import-and-export-datasets-eccf801e2971\n",
        "여기에 어떻게 데이터셋 올리는지 나와있다. 참조하도록"
      ],
      "metadata": {
        "id": "Mlef2_Ux3jO4"
      }
    },
    {
      "cell_type": "code",
      "source": [
        "df.info()"
      ],
      "metadata": {
        "colab": {
          "base_uri": "https://localhost:8080/"
        },
        "id": "yISh5OQw3o60",
        "outputId": "a0c09055-ddd4-49d6-8fdc-9d890b44c296"
      },
      "execution_count": null,
      "outputs": [
        {
          "output_type": "stream",
          "name": "stdout",
          "text": [
            "<class 'pandas.core.frame.DataFrame'>\n",
            "RangeIndex: 100416 entries, 0 to 100415\n",
            "Data columns (total 6 columns):\n",
            " #   Column               Non-Null Count   Dtype  \n",
            "---  ------               --------------   -----  \n",
            " 0   location             100416 non-null  object \n",
            " 1   date                 100416 non-null  object \n",
            " 2   variant              100416 non-null  object \n",
            " 3   num_sequences        100416 non-null  int64  \n",
            " 4   perc_sequences       100416 non-null  float64\n",
            " 5   num_sequences_total  100416 non-null  int64  \n",
            "dtypes: float64(1), int64(2), object(3)\n",
            "memory usage: 4.6+ MB\n"
          ]
        }
      ]
    },
    {
      "cell_type": "code",
      "source": [
        "variant_names = df['variant'].unique()\n",
        "variant_names\n"
      ],
      "metadata": {
        "id": "9jlj51Df30qx",
        "colab": {
          "base_uri": "https://localhost:8080/"
        },
        "outputId": "a0bb7d77-1a7f-4fbd-c2cc-7b3d430f21c4"
      },
      "execution_count": null,
      "outputs": [
        {
          "output_type": "execute_result",
          "data": {
            "text/plain": [
              "array(['Alpha', 'B.1.1.277', 'B.1.1.302', 'B.1.1.519', 'B.1.160',\n",
              "       'B.1.177', 'B.1.221', 'B.1.258', 'B.1.367', 'B.1.620', 'Beta',\n",
              "       'Delta', 'Epsilon', 'Eta', 'Gamma', 'Iota', 'Kappa', 'Lambda',\n",
              "       'Mu', 'Omicron', 'S:677H.Robin1', 'S:677P.Pelican', 'others',\n",
              "       'non_who'], dtype=object)"
            ]
          },
          "metadata": {},
          "execution_count": 7
        }
      ]
    },
    {
      "cell_type": "markdown",
      "source": [
        "24가지의 Variant가 존재한다는 것을 알수있고, 다음과 같은 이름들이 있단 것을 알수 있었다."
      ],
      "metadata": {
        "id": "eB74yJIpcL0j"
      }
    },
    {
      "cell_type": "markdown",
      "source": [
        " \n",
        "# **Tracking the progression of the new omicron COVID-19 Variant**\n",
        "\n",
        "**The data** \n",
        "*   location - this is the country for which the variant's information is provided\n",
        "*   date - date for the data entry; \n",
        "*   variant - this is the variant corresponding to this data entry\n",
        "\n",
        "\n",
        "*   num_sequences = total confirmed covid cases for that particular variant on that day in that location\n",
        "\n",
        "* perc_sequences = num_sequences / num_sequences_total\n",
        "\n",
        "* num_sequences_total = total covid tests performed on that day in that location\n",
        "\n",
        "\n",
        "\n",
        "\n",
        "\n",
        "\n",
        "\n"
      ],
      "metadata": {
        "id": "BCvwnzVMdHwN"
      }
    },
    {
      "cell_type": "markdown",
      "source": [
        "# What is the most popular variant? "
      ],
      "metadata": {
        "id": "IXWEIs50gjrr"
      }
    },
    {
      "cell_type": "code",
      "source": [
        "virus_distribution = pd.pivot_table(df,'num_sequences','location','variant',aggfunc='sum')\n",
        "var = ['Alpha', 'B.1.1.277', 'B.1.1.302', 'B.1.1.519', 'B.1.160',\n",
        "       'B.1.177', 'B.1.221', 'B.1.258', 'B.1.367', 'B.1.620', 'Beta',\n",
        "       'Delta', 'Epsilon', 'Eta', 'Gamma', 'Iota', 'Kappa', 'Lambda',\n",
        "       'Mu', 'Omicron', 'S:677H.Robin1', 'S:677P.Pelican', 'others',\n",
        "       'non_who']\n",
        "\n",
        "for i in var: \n",
        "  print(f'Top 5 countries with variant {i} :\\n {virus_distribution[i].sort_values(ascending=False)[:5]}\\n ')"
      ],
      "metadata": {
        "colab": {
          "base_uri": "https://localhost:8080/"
        },
        "id": "sAV3nls8nV6l",
        "outputId": "b63639b1-9914-4c3e-bf59-b043fa7560be"
      },
      "execution_count": null,
      "outputs": [
        {
          "output_type": "stream",
          "name": "stdout",
          "text": [
            "Top 5 countries with variant Alpha :\n",
            " location\n",
            "United Kingdom    262781\n",
            "United States     239829\n",
            "Germany           104138\n",
            "Sweden             68608\n",
            "Denmark            63798\n",
            "Name: Alpha, dtype: int64\n",
            " \n",
            "Top 5 countries with variant B.1.1.277 :\n",
            " location\n",
            "Denmark           545\n",
            "Norway            242\n",
            "United Kingdom    183\n",
            "Poland             33\n",
            "Iceland            30\n",
            "Name: B.1.1.277, dtype: int64\n",
            " \n",
            "Top 5 countries with variant B.1.1.302 :\n",
            " location\n",
            "Sweden            279\n",
            "Denmark           121\n",
            "Norway             37\n",
            "Latvia             26\n",
            "United Kingdom     21\n",
            "Name: B.1.1.302, dtype: int64\n",
            " \n",
            "Top 5 countries with variant B.1.1.519 :\n",
            " location\n",
            "United States    13136\n",
            "Mexico            7418\n",
            "Canada            1393\n",
            "Germany            195\n",
            "Denmark            187\n",
            "Name: B.1.1.519, dtype: int64\n",
            " \n",
            "Top 5 countries with variant B.1.160 :\n",
            " location\n",
            "France            6054\n",
            "Switzerland       5537\n",
            "Denmark           5299\n",
            "Canada            2897\n",
            "United Kingdom    2882\n",
            "Name: B.1.160, dtype: int64\n",
            " \n",
            "Top 5 countries with variant B.1.177 :\n",
            " location\n",
            "United Kingdom    82149\n",
            "Denmark           27379\n",
            "Spain             10196\n",
            "Germany            9515\n",
            "Sweden             7082\n",
            "Name: B.1.177, dtype: int64\n",
            " \n",
            "Top 5 countries with variant B.1.221 :\n",
            " location\n",
            "Denmark        2958\n",
            "Netherlands    2601\n",
            "Germany        2370\n",
            "Belgium        1527\n",
            "Sweden         1361\n",
            "Name: B.1.221, dtype: int64\n",
            " \n",
            "Top 5 countries with variant B.1.258 :\n",
            " location\n",
            "Slovenia          7944\n",
            "Denmark           5459\n",
            "United Kingdom    3783\n",
            "Germany           3235\n",
            "Sweden            1832\n",
            "Name: B.1.258, dtype: int64\n",
            " \n",
            "Top 5 countries with variant B.1.367 :\n",
            " location\n",
            "United Kingdom    284\n",
            "France            233\n",
            "Norway            111\n",
            "Switzerland        86\n",
            "Italy              65\n",
            "Name: B.1.367, dtype: int64\n",
            " \n",
            "Top 5 countries with variant B.1.620 :\n",
            " location\n",
            "South Korea    395\n",
            "Lithuania      186\n",
            "France         136\n",
            "Germany         59\n",
            "Switzerland     46\n",
            "Name: B.1.620, dtype: int64\n",
            " \n",
            "Top 5 countries with variant Beta :\n",
            " location\n",
            "South Africa     7489\n",
            "France           6176\n",
            "Philippines      3225\n",
            "United States    3105\n",
            "Sweden           2639\n",
            "Name: Beta, dtype: int64\n",
            " \n",
            "Top 5 countries with variant Delta :\n",
            " location\n",
            "United States     1327443\n",
            "United Kingdom    1085714\n",
            "Germany            185698\n",
            "Denmark            156694\n",
            "France              93711\n",
            "Name: Delta, dtype: int64\n",
            " \n",
            "Top 5 countries with variant Epsilon :\n",
            " location\n",
            "United States    64393\n",
            "Canada             758\n",
            "Mexico             499\n",
            "South Korea        114\n",
            "Aruba               57\n",
            "Name: Epsilon, dtype: int64\n",
            " \n",
            "Top 5 countries with variant Eta :\n",
            " location\n",
            "Canada            1748\n",
            "United States     1209\n",
            "France             715\n",
            "Germany            677\n",
            "United Kingdom     427\n",
            "Name: Eta, dtype: int64\n",
            " \n",
            "Top 5 countries with variant Gamma :\n",
            " location\n",
            "Brazil           47252\n",
            "United States    28733\n",
            "Canada           13271\n",
            "Chile             4404\n",
            "Argentina         2859\n",
            "Name: Gamma, dtype: int64\n",
            " \n",
            "Top 5 countries with variant Iota :\n",
            " location\n",
            "United States    41720\n",
            "Ecuador            413\n",
            "Canada             213\n",
            "Spain              124\n",
            "Aruba              102\n",
            "Name: Iota, dtype: int64\n",
            " \n",
            "Top 5 countries with variant Kappa :\n",
            " location\n",
            "India             5435\n",
            "United Kingdom     452\n",
            "Canada             417\n",
            "United States      333\n",
            "Ireland            210\n",
            "Name: Kappa, dtype: int64\n",
            " \n",
            "Top 5 countries with variant Lambda :\n",
            " location\n",
            "Peru             4003\n",
            "Chile            1775\n",
            "United States    1254\n",
            "Argentina        1109\n",
            "Ecuador           297\n",
            "Name: Lambda, dtype: int64\n",
            " \n",
            "Top 5 countries with variant Mu :\n",
            " location\n",
            "United States    6041\n",
            "Colombia         4421\n",
            "Chile             961\n",
            "Spain             669\n",
            "Ecuador           483\n",
            "Name: Mu, dtype: int64\n",
            " \n",
            "Top 5 countries with variant Omicron :\n",
            " location\n",
            "United Kingdom    65137\n",
            "United States     28536\n",
            "Denmark            4823\n",
            "Germany            2270\n",
            "South Africa       1872\n",
            "Name: Omicron, dtype: int64\n",
            " \n",
            "Top 5 countries with variant S:677H.Robin1 :\n",
            " location\n",
            "United States                6449\n",
            "Canada                         43\n",
            "Sint Maarten (Dutch part)      35\n",
            "Japan                           7\n",
            "Mexico                          4\n",
            "Name: S:677H.Robin1, dtype: int64\n",
            " \n",
            "Top 5 countries with variant S:677P.Pelican :\n",
            " location\n",
            "United States    4783\n",
            "Mexico             29\n",
            "Canada              8\n",
            "Costa Rica          5\n",
            "Guatemala           3\n",
            "Name: S:677P.Pelican, dtype: int64\n",
            " \n",
            "Top 5 countries with variant others :\n",
            " location\n",
            "United States     314225\n",
            "United Kingdom     53477\n",
            "Canada             39876\n",
            "Japan              37426\n",
            "India              20878\n",
            "Name: others, dtype: int64\n",
            " \n",
            "Top 5 countries with variant non_who :\n",
            " location\n",
            "United States     339081\n",
            "United Kingdom    143640\n",
            "Denmark            54754\n",
            "Canada             44334\n",
            "Japan              37480\n",
            "Name: non_who, dtype: int64\n",
            " \n"
          ]
        }
      ]
    },
    {
      "cell_type": "markdown",
      "source": [
        "# Which country is the highest populated country with the Omicron Variant?"
      ],
      "metadata": {
        "id": "m0qEV8oygj4D"
      }
    },
    {
      "cell_type": "code",
      "source": [
        "df['location'].value_counts()"
      ],
      "metadata": {
        "colab": {
          "base_uri": "https://localhost:8080/"
        },
        "id": "Dpx2igdXiLG8",
        "outputId": "1b802c57-9cd6-4c1e-9bf4-d940b72e8f07"
      },
      "execution_count": null,
      "outputs": [
        {
          "output_type": "execute_result",
          "data": {
            "text/plain": [
              "Mexico            1080\n",
              "Belgium           1080\n",
              "Bangladesh        1080\n",
              "France            1080\n",
              "United Kingdom    1080\n",
              "                  ... \n",
              "Montenegro         384\n",
              "Monaco             360\n",
              "Benin              336\n",
              "Fiji               336\n",
              "Brunei             240\n",
              "Name: location, Length: 121, dtype: int64"
            ]
          },
          "metadata": {},
          "execution_count": 31
        }
      ]
    },
    {
      "cell_type": "code",
      "source": [
        "df.describe(include = 'object')"
      ],
      "metadata": {
        "id": "iPwmG7EsmvVZ",
        "colab": {
          "base_uri": "https://localhost:8080/",
          "height": 173
        },
        "outputId": "e5ae2dc7-b159-41ae-9206-29b428e31132"
      },
      "execution_count": null,
      "outputs": [
        {
          "output_type": "execute_result",
          "data": {
            "text/html": [
              "\n",
              "  <div id=\"df-03f53239-b2f8-41a2-a39d-aff2cf7adf44\">\n",
              "    <div class=\"colab-df-container\">\n",
              "      <div>\n",
              "<style scoped>\n",
              "    .dataframe tbody tr th:only-of-type {\n",
              "        vertical-align: middle;\n",
              "    }\n",
              "\n",
              "    .dataframe tbody tr th {\n",
              "        vertical-align: top;\n",
              "    }\n",
              "\n",
              "    .dataframe thead th {\n",
              "        text-align: right;\n",
              "    }\n",
              "</style>\n",
              "<table border=\"1\" class=\"dataframe\">\n",
              "  <thead>\n",
              "    <tr style=\"text-align: right;\">\n",
              "      <th></th>\n",
              "      <th>location</th>\n",
              "      <th>date</th>\n",
              "      <th>variant</th>\n",
              "    </tr>\n",
              "  </thead>\n",
              "  <tbody>\n",
              "    <tr>\n",
              "      <th>count</th>\n",
              "      <td>100416</td>\n",
              "      <td>100416</td>\n",
              "      <td>100416</td>\n",
              "    </tr>\n",
              "    <tr>\n",
              "      <th>unique</th>\n",
              "      <td>121</td>\n",
              "      <td>45</td>\n",
              "      <td>24</td>\n",
              "    </tr>\n",
              "    <tr>\n",
              "      <th>top</th>\n",
              "      <td>Mexico</td>\n",
              "      <td>2021-02-08</td>\n",
              "      <td>Alpha</td>\n",
              "    </tr>\n",
              "    <tr>\n",
              "      <th>freq</th>\n",
              "      <td>1080</td>\n",
              "      <td>2688</td>\n",
              "      <td>4184</td>\n",
              "    </tr>\n",
              "  </tbody>\n",
              "</table>\n",
              "</div>\n",
              "      <button class=\"colab-df-convert\" onclick=\"convertToInteractive('df-03f53239-b2f8-41a2-a39d-aff2cf7adf44')\"\n",
              "              title=\"Convert this dataframe to an interactive table.\"\n",
              "              style=\"display:none;\">\n",
              "        \n",
              "  <svg xmlns=\"http://www.w3.org/2000/svg\" height=\"24px\"viewBox=\"0 0 24 24\"\n",
              "       width=\"24px\">\n",
              "    <path d=\"M0 0h24v24H0V0z\" fill=\"none\"/>\n",
              "    <path d=\"M18.56 5.44l.94 2.06.94-2.06 2.06-.94-2.06-.94-.94-2.06-.94 2.06-2.06.94zm-11 1L8.5 8.5l.94-2.06 2.06-.94-2.06-.94L8.5 2.5l-.94 2.06-2.06.94zm10 10l.94 2.06.94-2.06 2.06-.94-2.06-.94-.94-2.06-.94 2.06-2.06.94z\"/><path d=\"M17.41 7.96l-1.37-1.37c-.4-.4-.92-.59-1.43-.59-.52 0-1.04.2-1.43.59L10.3 9.45l-7.72 7.72c-.78.78-.78 2.05 0 2.83L4 21.41c.39.39.9.59 1.41.59.51 0 1.02-.2 1.41-.59l7.78-7.78 2.81-2.81c.8-.78.8-2.07 0-2.86zM5.41 20L4 18.59l7.72-7.72 1.47 1.35L5.41 20z\"/>\n",
              "  </svg>\n",
              "      </button>\n",
              "      \n",
              "  <style>\n",
              "    .colab-df-container {\n",
              "      display:flex;\n",
              "      flex-wrap:wrap;\n",
              "      gap: 12px;\n",
              "    }\n",
              "\n",
              "    .colab-df-convert {\n",
              "      background-color: #E8F0FE;\n",
              "      border: none;\n",
              "      border-radius: 50%;\n",
              "      cursor: pointer;\n",
              "      display: none;\n",
              "      fill: #1967D2;\n",
              "      height: 32px;\n",
              "      padding: 0 0 0 0;\n",
              "      width: 32px;\n",
              "    }\n",
              "\n",
              "    .colab-df-convert:hover {\n",
              "      background-color: #E2EBFA;\n",
              "      box-shadow: 0px 1px 2px rgba(60, 64, 67, 0.3), 0px 1px 3px 1px rgba(60, 64, 67, 0.15);\n",
              "      fill: #174EA6;\n",
              "    }\n",
              "\n",
              "    [theme=dark] .colab-df-convert {\n",
              "      background-color: #3B4455;\n",
              "      fill: #D2E3FC;\n",
              "    }\n",
              "\n",
              "    [theme=dark] .colab-df-convert:hover {\n",
              "      background-color: #434B5C;\n",
              "      box-shadow: 0px 1px 3px 1px rgba(0, 0, 0, 0.15);\n",
              "      filter: drop-shadow(0px 1px 2px rgba(0, 0, 0, 0.3));\n",
              "      fill: #FFFFFF;\n",
              "    }\n",
              "  </style>\n",
              "\n",
              "      <script>\n",
              "        const buttonEl =\n",
              "          document.querySelector('#df-03f53239-b2f8-41a2-a39d-aff2cf7adf44 button.colab-df-convert');\n",
              "        buttonEl.style.display =\n",
              "          google.colab.kernel.accessAllowed ? 'block' : 'none';\n",
              "\n",
              "        async function convertToInteractive(key) {\n",
              "          const element = document.querySelector('#df-03f53239-b2f8-41a2-a39d-aff2cf7adf44');\n",
              "          const dataTable =\n",
              "            await google.colab.kernel.invokeFunction('convertToInteractive',\n",
              "                                                     [key], {});\n",
              "          if (!dataTable) return;\n",
              "\n",
              "          const docLinkHtml = 'Like what you see? Visit the ' +\n",
              "            '<a target=\"_blank\" href=https://colab.research.google.com/notebooks/data_table.ipynb>data table notebook</a>'\n",
              "            + ' to learn more about interactive tables.';\n",
              "          element.innerHTML = '';\n",
              "          dataTable['output_type'] = 'display_data';\n",
              "          await google.colab.output.renderOutput(dataTable, element);\n",
              "          const docLink = document.createElement('div');\n",
              "          docLink.innerHTML = docLinkHtml;\n",
              "          element.appendChild(docLink);\n",
              "        }\n",
              "      </script>\n",
              "    </div>\n",
              "  </div>\n",
              "  "
            ],
            "text/plain": [
              "       location        date variant\n",
              "count    100416      100416  100416\n",
              "unique      121          45      24\n",
              "top      Mexico  2021-02-08   Alpha\n",
              "freq       1080        2688    4184"
            ]
          },
          "metadata": {},
          "execution_count": 61
        }
      ]
    },
    {
      "cell_type": "code",
      "source": [
        "plt.figure(figsize = (16,6))\n",
        "sns.lineplot(data = df)"
      ],
      "metadata": {
        "colab": {
          "base_uri": "https://localhost:8080/",
          "height": 393
        },
        "id": "LhvfZ0XjAU87",
        "outputId": "ac03abc7-8670-4d25-f7fc-546573ba53bc"
      },
      "execution_count": null,
      "outputs": [
        {
          "output_type": "execute_result",
          "data": {
            "text/plain": [
              "<matplotlib.axes._subplots.AxesSubplot at 0x7f76a5424bd0>"
            ]
          },
          "metadata": {},
          "execution_count": 13
        },
        {
          "output_type": "display_data",
          "data": {
            "image/png": "[encoded data removed]",
            "text/plain": [
              "<Figure size 1152x432 with 1 Axes>"
            ]
          },
          "metadata": {
            "needs_background": "light"
          }
        }
      ]
    }
  ]
}